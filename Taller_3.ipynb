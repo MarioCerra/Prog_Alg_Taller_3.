{
  "nbformat": 4,
  "nbformat_minor": 0,
  "metadata": {
    "colab": {
      "provenance": [],
      "authorship_tag": "ABX9TyOc77EQR2k2BCBTExrdWgNn",
      "include_colab_link": true
    },
    "kernelspec": {
      "name": "python3",
      "display_name": "Python 3"
    },
    "language_info": {
      "name": "python"
    }
  },
  "cells": [
    {
      "cell_type": "markdown",
      "metadata": {
        "id": "view-in-github",
        "colab_type": "text"
      },
      "source": [
        "<a href=\"https://colab.research.google.com/github/MarioCerra/Prog_Alg_Taller_3./blob/main/Taller_3.ipynb\" target=\"_parent\"><img src=\"https://colab.research.google.com/assets/colab-badge.svg\" alt=\"Open In Colab\"/></a>"
      ]
    },
    {
      "cell_type": "markdown",
      "source": [
        "# Taller 3: Sintaxis basica de Python UPB 2023-2\n",
        "## Mario Andres Cerra Vergara\n",
        "### ID: 000503686\n",
        "### Email: mario.cerra@upb.edu.co\n",
        "\n",
        "## Julio Cesar Olascuaga Bruno\n",
        "### ID: 000503419\n",
        "### Email: julio.olascuaga@upb.edu.co\n",
        "\n"
      ],
      "metadata": {
        "id": "CPXzDG-y_psy"
      }
    },
    {
      "cell_type": "markdown",
      "source": [
        "## Problema 1: Calcular y mostrar la posición de una partícula que experimenta movimiento uniformemente acelerado a partir de su posición inicial (𝑥0), velocidad inicial (𝑣0) y aceleración (𝑎) en dos instantes de tiempo diferentes.\n",
        "La posición en un instante de tiempo está dada por\n",
        "\n",
        "$$𝑥=𝑥0+𝑣0𝑡+1/2𝑎𝑡^2$$\n"
      ],
      "metadata": {
        "id": "s07Hp6a8Bc3Z"
      }
    },
    {
      "cell_type": "markdown",
      "source": [
        "## Tiempo 1"
      ],
      "metadata": {
        "id": "EVqdBAq2Hl2C"
      }
    },
    {
      "cell_type": "code",
      "source": [
        "print(\"programa para calcular la posicion de una particula\")\n",
        "x0 = 2\n",
        "v0 = 5\n",
        "a = 4\n",
        "t = 7\n",
        "x = x0 + v0 + 1/2 * a * t ** 2\n",
        "float(input(\"ingrese el valor de la posicion inicial: \"))\n",
        "float(input(\"ingrese el valor de la velocidad inicial: \"))\n",
        "float(input(\"ingrese el valor de la aceleracion:\"))\n",
        "float(input(\"ingrese el valor del tiempo:\"))\n",
        "print(\"la posicion de la particula con posicion inicial \",(str(x0)),\"(m) velocidad inicial\",(str(v0)),\"(m/s) aceleracion\",(str(a)),\"(m/s^2) tiempo\",(str(t)),\"(s) es\",str(x),\"(m)\")"
      ],
      "metadata": {
        "id": "LBF4UfFABsdc",
        "outputId": "4fca7195-69cb-43be-b5ac-2567e2782962",
        "colab": {
          "base_uri": "https://localhost:8080/"
        }
      },
      "execution_count": null,
      "outputs": [
        {
          "output_type": "stream",
          "name": "stdout",
          "text": [
            "programa para calcular la posicion de una particula\n",
            "ingrese el valor de la posicion inicial: 2\n",
            "ingrese el valor de la velocidad inicial: 5\n",
            "ingrese el valor de la aceleracion:4\n",
            "ingrese el valor del tiempo:7\n",
            "la posicion de la particula con posicion inicial  2 (m) velocidad inicial 5 (m/s) aceleracion 4 (m/s^2) tiempo 7 (s) es 105.0 (m)\n"
          ]
        }
      ]
    },
    {
      "cell_type": "markdown",
      "source": [
        "## Tiempo 2"
      ],
      "metadata": {
        "id": "4TdwxenMHZKs"
      }
    },
    {
      "cell_type": "code",
      "source": [
        "print(\"programa para calcular la posicion de una particula\")\n",
        "x0 = 2\n",
        "v0 = 5\n",
        "a = 4\n",
        "t = 9\n",
        "x = x0 + v0 + 1/2 * a * t ** 2\n",
        "float(input(\"ingrese el valor de la posicion inicial: \"))\n",
        "float(input(\"ingrese el valor de la velocidad inicial: \"))\n",
        "float(input(\"ingrese el valor de la aceleracion:\"))\n",
        "float(input(\"ingrese el valor del tiempo:\"))\n",
        "print(\"la posicion de la particula con posicion inicial \",(str(x0)),\"(m) velocidad inicial\",(str(v0)),\"(m/s) aceleracion\",(str(a)),\"(m/s^2) tiempo\",(str(t)),\"(s) es\",str(x),\"(m)\")"
      ],
      "metadata": {
        "id": "QwCG-HgkHNYf",
        "outputId": "1e3aa205-807d-4116-9702-24651cfd71ba",
        "colab": {
          "base_uri": "https://localhost:8080/"
        }
      },
      "execution_count": null,
      "outputs": [
        {
          "output_type": "stream",
          "name": "stdout",
          "text": [
            "programa para calcular la posicion de una particula\n",
            "ingrese el valor de la posicion inicial: 2\n",
            "ingrese el valor de la velocidad inicial: 5\n",
            "ingrese el valor de la aceleracion:4\n",
            "ingrese el valor del tiempo:9\n",
            "la posicion de la particula con posicion inicial  2 (m) velocidad inicial 5 (m/s) aceleracion 4 (m/s^2) tiempo 9 (s) es 169.0 (m)\n"
          ]
        }
      ]
    },
    {
      "cell_type": "markdown",
      "source": [
        "## Problema 2: Calcular y mostrar la distancia entre dos puntos 𝑃1 y 𝑃2 ubicados en las coordenadas (𝑥1,𝑦1) y (𝑥2,𝑦2).\n",
        "La distancia euclidiana se calcula con la ecuación: $𝑑=√(𝑥2−𝑥1)^2+(𝑦2−𝑦1)^2$"
      ],
      "metadata": {
        "id": "GQtQqOAUO9oh"
      }
    },
    {
      "cell_type": "code",
      "source": [
        "import math\n",
        "print(\"programa para calcular la distancia entre dos puntos\")\n",
        "x1 = 3.5\n",
        "x2 = 4.7\n",
        "y1 = 6.1\n",
        "y2 = 8.3\n",
        "d = math.sqrt((x2 - x1) ** 2 + (y2-y1) ** 2)\n",
        "float(input(\"ingresa la coordenada de (x1): \"))\n",
        "float(input(\"ingrese la coordenada de (x2): \"))\n",
        "float(input(\"ingrese la coordenada de (y1): \"))\n",
        "float(input(\"ingrese la coordenada de (y2): \"))\n",
        "print(\"la distancia entre los puntos p1 y p2 es:\", d)"
      ],
      "metadata": {
        "id": "ncrQDEbrP7jK",
        "outputId": "6b137625-ca9f-41ca-cd66-d26abc4ddeec",
        "colab": {
          "base_uri": "https://localhost:8080/"
        }
      },
      "execution_count": null,
      "outputs": [
        {
          "output_type": "stream",
          "name": "stdout",
          "text": [
            "programa para calcular la distancia entre dos puntos\n",
            "ingresa la coordenada de (x1): 3.5\n",
            "ingrese la coordenada de (x2): 4.7\n",
            "ingrese la coordenada de (y1): 6.1\n",
            "ingrese la coordenada de (y2): 8.3\n",
            "la distancia entre los puntos p1 y p2 es: 2.5059928172283343\n"
          ]
        }
      ]
    },
    {
      "cell_type": "markdown",
      "source": [
        "## Problema 3: Calcular y mostrarel valor del volumen de un cilindro cuyo radio y altura sean ingresados por el usuario.\n",
        "El volumen de un cilindro está dado por:  $𝑉=𝜋𝑟^2ℎ$\n",
        "\n",
        "Donde 𝜋=3.141592, 𝑟 es el radio y ℎ la altura."
      ],
      "metadata": {
        "id": "Lkf-8irHUzfE"
      }
    },
    {
      "cell_type": "code",
      "source": [
        "import math\n",
        "print(\"programa para calcular el volumen de un cilindro\")\n",
        "pi = math.pi\n",
        "r = 10.5\n",
        "h = 14.7\n",
        "v = math.pi * r ** 2 * h\n",
        "float(input(\"ingrese el valor de (pi):\"))\n",
        "float(input(\"ingrese el valor de (r):\"))\n",
        "float(input(\"ingrese el valor de (h):\"))\n",
        "print(\"el volumen de un cilindro de r(10.5 cm) y h(14.7 cm) es\", v ,\"(cm^3)\")"
      ],
      "metadata": {
        "id": "kiua-4uhVG9o",
        "outputId": "566ab1f1-36dd-474e-fbe8-ed9d6993fb68",
        "colab": {
          "base_uri": "https://localhost:8080/"
        }
      },
      "execution_count": null,
      "outputs": [
        {
          "output_type": "stream",
          "name": "stdout",
          "text": [
            "programa para calcular el volumen de un cilindro\n",
            "ingrese el valor de (pi):3.141592\n",
            "ingrese el valor de (r):10.5\n",
            "ingrese el valor de (h):14.7\n",
            "el volumen de un cilindro de r(10.5 cm) y h(14.7 cm) es 5091.500673856637 (cm^3)\n"
          ]
        }
      ]
    },
    {
      "cell_type": "markdown",
      "source": [
        "## Problem 4: Calcular y mostrarel resultado de las siguientes operaciones lógicas:\n",
        "1.A > B y B > D\n",
        "\n",
        "2.B < = C o C < D\n",
        "\n",
        "3.A = B y B > C\n",
        "\n",
        "4.A < C o B < C\n",
        "\n",
        "5.A + D < C y B > 5\n",
        "\n",
        "6.D – C >= - A * B\n",
        "\n",
        "7.D * C == 5  o C * A > 9\n",
        "\n",
        "8.A * B + C > - D * 10\n",
        "\n",
        "Losvalores de A, B, Cy Ddeben ser números decimalesingresados por el usuario."
      ],
      "metadata": {
        "id": "8jsWjQHgiKrJ"
      }
    },
    {
      "cell_type": "code",
      "source": [
        "a = 7\n",
        "b = 5\n",
        "c = 3\n",
        "d = 1\n",
        "a = float(input(\"ingrese el valor de a: \"))\n",
        "b = float(input(\"ingrse el valor de b: \"))\n",
        "c = float(input(\"ingrese el avlor de c: \"))\n",
        "d = float(input(\"ingrese el valor de d: \"))\n",
        "1# a > b y b > d\n",
        "2# b <= c o c < d\n",
        "3# a = b y b > c\n",
        "4# a < c o b < c\n",
        "5# a + d < c y b > 5\n",
        "6# d - c >= - a * b\n",
        "7# d * c == 5 o c * a > 9\n",
        "8# a * b + c > - d * 10\n",
        "ecuacion_1 = a > b and b > d\n",
        "ecuacion_2 = b <= c or c < d\n",
        "ecuacion_3 = a = b and b > c\n",
        "ecuacion_4 = a < c or b < c\n",
        "ecuacion_5 = a + d < c and b > 5\n",
        "ecuacion_6 = d - c >= - a * b\n",
        "ecuacion_7 = d * c == 5 or c * a > 9\n",
        "ecuacion_8 = a * b + c > - d * 10\n",
        "print(\"resultado de la ecuacion 1#\", ecuacion_1)\n",
        "print(\"resultado de la ecuacion 2#\", ecuacion_2)\n",
        "print(\"resultado de la ecuacion 3#\", ecuacion_3)\n",
        "print(\"resultado de la ecuacion 4#\", ecuacion_4)\n",
        "print(\"resultado de la ecuacion 5#\", ecuacion_5)\n",
        "print(\"resultado de la ecuacion 6#\", ecuacion_6)\n",
        "print(\"resultado de la ecuacion 7#\", ecuacion_7)\n",
        "print(\"resultado de la ecuacion 8#\", ecuacion_8)"
      ],
      "metadata": {
        "id": "DQVx0xru-U9I",
        "outputId": "e23744c0-882d-4328-a53a-d1b99b6808a5",
        "colab": {
          "base_uri": "https://localhost:8080/"
        }
      },
      "execution_count": null,
      "outputs": [
        {
          "output_type": "stream",
          "name": "stdout",
          "text": [
            "ingrese el valor de a: 7\n",
            "ingrse el valor de b: 5\n",
            "ingrese el avlor de c: 3\n",
            "ingrese el valor de d: 1\n",
            "resultado de la ecuacion 1# True\n",
            "resultado de la ecuacion 2# False\n",
            "resultado de la ecuacion 3# True\n",
            "resultado de la ecuacion 4# True\n",
            "resultado de la ecuacion 5# False\n",
            "resultado de la ecuacion 6# True\n",
            "resultado de la ecuacion 7# False\n",
            "resultado de la ecuacion 8# True\n"
          ]
        }
      ]
    }
  ]
}